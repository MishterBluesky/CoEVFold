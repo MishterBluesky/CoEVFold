{
  "nbformat": 4,
  "nbformat_minor": 0,
  "metadata": {
    "colab": {
      "private_outputs": true,
      "provenance": [],
      "authorship_tag": "ABX9TyPfkFHYWfOqf5D0ZpnCRc3q",
      "include_colab_link": true
    },
    "kernelspec": {
      "name": "python3",
      "display_name": "Python 3"
    },
    "language_info": {
      "name": "python"
    }
  },
  "cells": [
    {
      "cell_type": "markdown",
      "metadata": {
        "id": "view-in-github",
        "colab_type": "text"
      },
      "source": [
        "<a href=\"https://colab.research.google.com/github/MishterBluesky/CoEVFold/blob/main/Co_evolution_suite.ipynb\" target=\"_parent\"><img src=\"https://colab.research.google.com/assets/colab-badge.svg\" alt=\"Open In Colab\"/></a>"
      ]
    },
    {
      "cell_type": "markdown",
      "source": [
        "# CoEVFold Co-evolution suite ![coev.png](data:image/png;base64,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)\n",
        "\n",
        "This is the homepage for CoEVFold co-evolutionary tools. The following links are to tools that will assist with co-evolution searching of your gene, whether with other proteins in 3D or if you are only interested in knowing the contact maps of input genes. It greatly depends on the GREMLIN covariance algorithm and MMSEQ2. Each tool has its uses.\n",
        "\n",
        "1. To create a 2D Co-evolution contact map, and perform simple coevolution through MMSEQ2 of a user input protein sequence(s) use; [Simple Coevolution](https://colab.research.google.com/drive/1pTASZ-Ko5Q7TcTujXKCTtZ1j5_TPaZTi?usp=sharing)\n",
        "\n",
        "2. To find likely interfaces for homomeric multimerisation use: [ Homomeric Quaternary interaction finder](https://colab.research.google.com/drive/1ujOg4abyLVxb64koOhxZ5qP5uFr-E65l?usp=sharing)\n",
        "\n",
        "\n",
        "3. To plot co-evolution of heteromers of up to two different genes but with unlimited chains, and for more customisable co-evolution input use ***CoEVfold advanced*** (To plot co-evolution of heteromers https://colab.research.google.com/drive/17Ra7OJADodGlBuBtJRhRcPX6ksnsx9Dq?usp=sharing\n",
        "\n",
        "Related to this are also\n",
        "\n",
        "\n",
        "ConservFold:https://colab.research.google.com/drive/1s7N6w2VEjadkJVS9bFzyOLaFZ3uImS0k?usp=sharing for Conservation determination by Weblogo\n",
        "as well as its better, infinite size complex and protein ensemble version;\n",
        "ConservFold2:https://colab.research.google.com/drive/1Lv-akfLE7kTCFCWaEyHAtsPCeXYD3xvH?usp=sharing\n",
        "\n",
        "You may also file AlphaMatrix useful, a tool that has no coevolution but runs batches of alphafold as a means to look for AI structural predictions of interations https://colab.research.google.com/drive/1HU_KFWKyVLtz6u4MEMnZlXayaCYrQMw8?usp=sharing\n",
        "\n",
        "Update: Conda has been changed to Mamba in these scripts! A small update to reduce crashes in recent colab versions."
      ],
      "metadata": {
        "id": "z1k3O_FpnAK2"
      }
    },
    {
      "cell_type": "markdown",
      "source": [
        "Please cite the following paper when using this work:\n",
        "\n",
        "> Co-Evolution imposition onto predicted protein structures to improve determination of intermolecular interfaces. (C Graham and C Rodrigues 2025)\n",
        "\n"
      ],
      "metadata": {
        "id": "uwMIkD4JxAb9"
      }
    },
    {
      "cell_type": "code",
      "metadata": {
        "id": "yM3wyYU5SwYn"
      },
      "source": [
        "# The GREMLIN algorithm although altered which you will find in each colab notebook the above softwares rely on is re-purposed under the following:\n",
        "# ------------------------------------------------------------------\n",
        "# \"THE BEERWARE LICENSE\" (Revision 42)\n",
        "# ------------------------------------------------------------------\n",
        "# <so@g.harvard.edu> and <pkk382@g.harvard.edu> wrote this code.\n",
        "# As long as you retain this notice, you can do whatever you want\n",
        "# with this stuff. If we meet someday, and you think this stuff\n",
        "# is worth it, you can buy us a beer in return.\n",
        "# --Sergey Ovchinnikov and Peter Koo\n",
        "# ------------------------------------------------------------------\n",
        "# The original MATLAB code for GREMLIN was written by Hetu Kamisetty - Baker Lab\n",
        "# ------------------------------------------------------------------\n",
        "# Chris LB Graham - Rodrigues Lab designed this Colab, which includes components of the above and will get the above a beer, email at <chris.l.b.graham@warwick.ac.uk> to claim or visit Warwick"
      ],
      "execution_count": null,
      "outputs": []
    }
  ]
}